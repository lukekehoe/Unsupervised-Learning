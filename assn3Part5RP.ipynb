{
 "cells": [
  {
   "cell_type": "code",
   "execution_count": 20,
   "id": "a429a76d",
   "metadata": {},
   "outputs": [],
   "source": [
    "import pandas as pd\n",
    "import numpy as np\n",
    "import matplotlib.pyplot as plt\n",
    "from sklearn.metrics import adjusted_mutual_info_score, silhouette_score\n",
    "from sklearn.cluster import KMeans\n",
    "from sklearn.mixture import GaussianMixture"
   ]
  },
  {
   "cell_type": "code",
   "execution_count": 21,
   "id": "40dbcc40",
   "metadata": {},
   "outputs": [],
   "source": [
    "clusters_count = [2, 4, 6, 8, 10 ]\n",
    "kmeans = KMeans(random_state = 4)"
   ]
  },
  {
   "cell_type": "code",
   "execution_count": 22,
   "id": "88642759",
   "metadata": {},
   "outputs": [],
   "source": [
    "heart_data = pd.read_csv('rp_hd.csv', sep=',')\n",
    "auto_data = pd.read_csv('rp_mpg.csv', sep=',')"
   ]
  },
  {
   "cell_type": "code",
   "execution_count": 23,
   "id": "e44b2ccd",
   "metadata": {},
   "outputs": [],
   "source": [
    "# heart_features = ['age','sex','cp','trestbps','chol','fbs','restecg','thalach','exang','oldpeak','slope','ca','thal']\n",
    "# auto_features = ['cylinders','displacement','horsepower','weight','acceleration','model_year','origin']"
   ]
  },
  {
   "cell_type": "code",
   "execution_count": 24,
   "id": "0ae9ae01",
   "metadata": {},
   "outputs": [],
   "source": [
    "heart_features = ['0','1','2','3','4']\n",
    "auto_features = ['0','1','2','3','4']\n",
    "x_heart = heart_data[heart_features]  \n",
    "y_heart = heart_data.target\n",
    "x_auto = auto_data[auto_features] \n",
    "y_auto = auto_data.mpg\n"
   ]
  },
  {
   "cell_type": "code",
   "execution_count": 25,
   "id": "d43cd67d",
   "metadata": {},
   "outputs": [
    {
     "name": "stderr",
     "output_type": "stream",
     "text": [
      "/home/lucmac/.conda/envs/asn3/lib/python3.11/site-packages/sklearn/cluster/_kmeans.py:870: FutureWarning: The default value of `n_init` will change from 10 to 'auto' in 1.4. Set the value of `n_init` explicitly to suppress the warning\n",
      "  warnings.warn(\n"
     ]
    }
   ],
   "source": [
    "kmeans.set_params(n_clusters = 4)\n",
    "kmeans.fit(x_heart)\n",
    "labels = kmeans.predict(x_heart)\n",
    "labels = pd.DataFrame(labels)\n",
    "new_heart = pd.concat([x_heart, labels], axis=1)\n",
    "new_heart.to_csv(\"kmeans_feature_rp_hd.csv\")"
   ]
  },
  {
   "cell_type": "code",
   "execution_count": 26,
   "id": "74979287",
   "metadata": {},
   "outputs": [
    {
     "name": "stderr",
     "output_type": "stream",
     "text": [
      "/home/lucmac/.conda/envs/asn3/lib/python3.11/site-packages/sklearn/cluster/_kmeans.py:870: FutureWarning: The default value of `n_init` will change from 10 to 'auto' in 1.4. Set the value of `n_init` explicitly to suppress the warning\n",
      "  warnings.warn(\n"
     ]
    }
   ],
   "source": [
    "kmeans.set_params(n_clusters = 2)\n",
    "kmeans.fit(x_auto)\n",
    "labels = kmeans.predict(x_auto)\n",
    "\n",
    "labels = pd.DataFrame(labels)\n",
    "new_heart = pd.concat([x_auto, labels], axis=1)\n",
    "new_heart.to_csv(\"kmeans_feature_rp_mpg.csv\")"
   ]
  },
  {
   "cell_type": "code",
   "execution_count": 27,
   "id": "8763c6aa",
   "metadata": {},
   "outputs": [],
   "source": [
    "# Expectation Maximum\n",
    "gaus = GaussianMixture(random_state = 4)\n"
   ]
  },
  {
   "cell_type": "code",
   "execution_count": 28,
   "id": "f4387eae",
   "metadata": {},
   "outputs": [],
   "source": [
    "gaus.set_params(n_components = 4)\n",
    "gaus.fit(x_heart)\n",
    "labels = gaus.predict(x_heart)\n",
    "\n",
    "labels = pd.DataFrame(labels)\n",
    "new_heart = pd.concat([x_heart, labels], axis=1)\n",
    "new_heart.to_csv(\"em_feature_rp_hd.csv\")\n"
   ]
  },
  {
   "cell_type": "code",
   "execution_count": 29,
   "id": "4a1fdef4",
   "metadata": {},
   "outputs": [],
   "source": [
    "gaus.set_params(n_components = 4)\n",
    "gaus.fit(x_auto)\n",
    "labels = gaus.predict(x_auto)\n",
    "\n",
    "labels = pd.DataFrame(labels)\n",
    "new_heart = pd.concat([x_auto, labels], axis=1)\n",
    "new_heart.to_csv(\"em_feature_rp_mpg.csv\")"
   ]
  },
  {
   "cell_type": "code",
   "execution_count": null,
   "id": "d171f560",
   "metadata": {},
   "outputs": [],
   "source": []
  }
 ],
 "metadata": {
  "kernelspec": {
   "display_name": "Python 3 (ipykernel)",
   "language": "python",
   "name": "python3"
  },
  "language_info": {
   "codemirror_mode": {
    "name": "ipython",
    "version": 3
   },
   "file_extension": ".py",
   "mimetype": "text/x-python",
   "name": "python",
   "nbconvert_exporter": "python",
   "pygments_lexer": "ipython3",
   "version": "3.11.0"
  }
 },
 "nbformat": 4,
 "nbformat_minor": 5
}
